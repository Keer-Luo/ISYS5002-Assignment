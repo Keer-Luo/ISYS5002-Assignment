{
  "nbformat": 4,
  "nbformat_minor": 0,
  "metadata": {
    "colab": {
      "name": "ELP",
      "provenance": [],
      "authorship_tag": "ABX9TyPffDz9KA6Hoaq2gsS0gS0R",
      "include_colab_link": true
    },
    "kernelspec": {
      "name": "python3",
      "display_name": "Python 3"
    },
    "language_info": {
      "name": "python"
    }
  },
  "cells": [
    {
      "cell_type": "markdown",
      "metadata": {
        "id": "view-in-github",
        "colab_type": "text"
      },
      "source": [
        "<a href=\"https://colab.research.google.com/github/Keer-Luo/ISYS5002-Assignment/blob/main/ELP.ipynb\" target=\"_parent\"><img src=\"https://colab.research.google.com/assets/colab-badge.svg\" alt=\"Open In Colab\"/></a>"
      ]
    },
    {
      "cell_type": "code",
      "metadata": {
        "id": "vb9HdH0oTNw1"
      },
      "source": [
        "# define the url \n",
        "def get_url(search_term, template): \n",
        "# Replace the spaces in the search keyword with a '+'\n",
        "search_term = search_term.replace(' ', '+')\n",
        "# Search keyword embedded in template in the url template string\n",
        "url = template.format(search_term)\n",
        "# Add the page code to get query parameter in the url\n",
        "url += '&page={}' \n",
        "return url"
      ],
      "execution_count": null,
      "outputs": []
    }
  ]
}