{
  "nbformat": 4,
  "nbformat_minor": 0,
  "metadata": {
    "colab": {
      "name": "Sandbox_assignment.ipynb",
      "provenance": [],
      "authorship_tag": "ABX9TyOrPbmgd8ddDai2TWcWjE/C",
      "include_colab_link": true
    },
    "kernelspec": {
      "name": "python3",
      "display_name": "Python 3"
    },
    "language_info": {
      "name": "python"
    }
  },
  "cells": [
    {
      "cell_type": "markdown",
      "metadata": {
        "id": "view-in-github",
        "colab_type": "text"
      },
      "source": [
        "<a href=\"https://colab.research.google.com/github/Keer-Luo/ISYS5002-Assignment/blob/main/Sandbox_assignment.ipynb\" target=\"_parent\"><img src=\"https://colab.research.google.com/assets/colab-badge.svg\" alt=\"Open In Colab\"/></a>"
      ]
    },
    {
      "cell_type": "markdown",
      "metadata": {
        "id": "-7av55TkDsIz"
      },
      "source": [
        "# Assignment Ideas\n",
        "\n",
        "1. State the problem clearly\n",
        "2. Describle the input and output information\n",
        "3. Work the problem\n",
        "4. Develop an algorithm\n",
        "5. Test solution with a variety of data\n",
        "\n",
        "# Inputs\n",
        "\n",
        "* input a ticker symbol. Not sure what a ticker symbol is?\n",
        "\n",
        "Note: To prompt the user, I guess I will need to use the input() function\n",
        "\n",
        "**TODO: Find out what a ticker symbol is** \n",
        "\n",
        "# Processing thoughts\n",
        "\n",
        "* Scrap the Yahoo website\n",
        "* Extract the 'Key Executives'\n",
        "* Calculate income tax\n",
        "\n",
        "Note: In a previous Notebook, we calculated the tax based on ATO table, Might be able to  use that in this assignment\n",
        "\n",
        "**TODO: Find Yahoo Website**\n",
        "\n",
        "Here is the webpage: https://finance.yahoo.com/\n",
        "\n",
        "Note there is a search bar, will use to find a company\n",
        "\n",
        "**TODO: Find the key Executivies**\n",
        "# Outputs\n",
        "\n",
        "* Save the CSV files\n",
        "* save to SQL database \n",
        "\n",
        "**TODO: Work out what I have to save!**\n",
        "\n",
        "\n",
        "# Lets Explore the Website\n",
        "\n",
        "1. Search for Coles\n",
        "\n",
        "Coles ticker is COL.AX\n",
        "\n",
        "Note the 'AX' means Australian\n",
        "\n",
        "Just read the assignment specification, it can be any company.\n",
        "\n",
        "Found the key executivies in the profile page.\n",
        "\n",
        "Here is the URL for Coles:\n",
        "\n",
        "https://finance.yahoo.com/quote/COL.AX/profile?p=COL.AX\n",
        "\n",
        "2. Lets search for National Australian Back\n",
        "\n",
        "The ticker is NAB.AX, Here is the URL to the proflie page:\n",
        "\n",
        "https://finance.yahoo.com/quote/NAB.AX/profile?p=NAB.AX\n",
        "\n",
        "There appears to be a pattern with the URL. I can see that the ticker twice in the URL\n",
        "\n",
        "Manual process is\n",
        "1. Seaech for Ticker\n",
        "2. Click on proflie\n",
        "\n",
        "**TODO: Can I shortcut the process and just use the URL**\n",
        "\n",
        "Looks like I can edit the URL and replace the ticker. Seems that only the first ticker symbol in the URL is important, but to be safe I will replace both.\n",
        "\n",
        "\n"
      ]
    },
    {
      "cell_type": "code",
      "metadata": {
        "colab": {
          "base_uri": "https://localhost:8080/"
        },
        "id": "PRPPStn_KWxm",
        "outputId": "e0d0012d-1b02-4e94-a47f-034bb2f7cdca"
      },
      "source": [
        "#install requirements\n",
        "!pip install kora -q\n",
        "\n",
        "#load package page\n",
        "from bs4 import BeautifulSoup\n",
        "from kora.selenium import wd"
      ],
      "execution_count": null,
      "outputs": [
        {
          "output_type": "stream",
          "name": "stdout",
          "text": [
            "\u001b[?25l\r\u001b[K     |█████▊                          | 10 kB 17.2 MB/s eta 0:00:01\r\u001b[K     |███████████▍                    | 20 kB 23.1 MB/s eta 0:00:01\r\u001b[K     |█████████████████               | 30 kB 13.2 MB/s eta 0:00:01\r\u001b[K     |██████████████████████▊         | 40 kB 9.5 MB/s eta 0:00:01\r\u001b[K     |████████████████████████████▍   | 51 kB 5.2 MB/s eta 0:00:01\r\u001b[K     |████████████████████████████████| 57 kB 2.6 MB/s \n",
            "\u001b[?25h\u001b[?25l\r\u001b[K     |█████▉                          | 10 kB 20.8 MB/s eta 0:00:01\r\u001b[K     |███████████▊                    | 20 kB 29.6 MB/s eta 0:00:01\r\u001b[K     |█████████████████▌              | 30 kB 35.3 MB/s eta 0:00:01\r\u001b[K     |███████████████████████▍        | 40 kB 40.0 MB/s eta 0:00:01\r\u001b[K     |█████████████████████████████▎  | 51 kB 44.4 MB/s eta 0:00:01\r\u001b[K     |████████████████████████████████| 56 kB 3.4 MB/s \n",
            "\u001b[?25h"
          ]
        }
      ]
    },
    {
      "cell_type": "code",
      "metadata": {
        "colab": {
          "base_uri": "https://localhost:8080/",
          "height": 132
        },
        "id": "uXUzKmz_h1JR",
        "outputId": "eeff16d3-427c-46a6-ed7f-fb5ab87393cb"
      },
      "source": [
        "https://finance.yahoo.com/"
      ],
      "execution_count": null,
      "outputs": [
        {
          "output_type": "error",
          "ename": "SyntaxError",
          "evalue": "ignored",
          "traceback": [
            "\u001b[0;36m  File \u001b[0;32m\"<ipython-input-2-8219f5959f3f>\"\u001b[0;36m, line \u001b[0;32m1\u001b[0m\n\u001b[0;31m    https://finance.yahoo.com/\u001b[0m\n\u001b[0m           ^\u001b[0m\n\u001b[0;31mSyntaxError\u001b[0m\u001b[0;31m:\u001b[0m invalid syntax\n"
          ]
        }
      ]
    }
  ]
}