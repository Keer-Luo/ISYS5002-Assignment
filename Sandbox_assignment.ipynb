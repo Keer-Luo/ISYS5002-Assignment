{
  "nbformat": 4,
  "nbformat_minor": 0,
  "metadata": {
    "colab": {
      "name": "Sandbox_assignment.ipynb",
      "provenance": [],
      "authorship_tag": "ABX9TyMN5QRTGTKNMNajT2rSv4cX",
      "include_colab_link": true
    },
    "kernelspec": {
      "name": "python3",
      "display_name": "Python 3"
    },
    "language_info": {
      "name": "python"
    }
  },
  "cells": [
    {
      "cell_type": "markdown",
      "metadata": {
        "id": "view-in-github",
        "colab_type": "text"
      },
      "source": [
        "<a href=\"https://colab.research.google.com/github/Keer-Luo/ISYS5002-Assignment/blob/main/Sandbox_assignment.ipynb\" target=\"_parent\"><img src=\"https://colab.research.google.com/assets/colab-badge.svg\" alt=\"Open In Colab\"/></a>"
      ]
    },
    {
      "cell_type": "markdown",
      "metadata": {
        "id": "hehapW2zoK8L"
      },
      "source": [
        "# Initial Algorithm\n",
        "\n",
        "1. User input ticker symbol\n",
        "2. Use ticker to get profile page\n",
        "3. Copied the table\n",
        "4. For each row of the table\n",
        " * Process a row to extract pay\n",
        " * Find the last character to determin multiplier\n",
        " * Calculate salary, pay * multiplier\n",
        " * Calculate the income tax\n",
        "\n",
        "\n",
        "Note: \n",
        "1. Need to validate the ticker, but for now I will assume the user type in a correct ticker\n",
        "2. Still need to work out where I save the income tax to\n"
      ]
    },
    {
      "cell_type": "code",
      "metadata": {
        "id": "PRPPStn_KWxm"
      },
      "source": [
        "\n",
        "#install requirements\n",
        "!pip install kora -q\n",
        "\n",
        "#load package page\n",
        "from bs4 import BeautifulSoup\n",
        "from kora.selenium import wd\n",
        "import pandas as pd\n"
      ],
      "execution_count": 5,
      "outputs": []
    },
    {
      "cell_type": "markdown",
      "metadata": {
        "id": "KaMwdBtn-p24"
      },
      "source": [
        "# Use the ticker to get the URL\n",
        "\n",
        "1. User input the ticker symbol\n",
        "\n",
        "  NOTE: use the input function\n",
        " \n",
        "2. get the URL（profile page)\n",
        " \n",
        " * set the example url\n",
        " * Find the url based on the ticker symbol"
      ]
    },
    {
      "cell_type": "code",
      "metadata": {
        "id": "671wkk_dr3xp"
      },
      "source": [
        "def build_url():\n",
        " # User input ticker symbol\n",
        " ticker_symbol = input(\"Please input ticker symbol \")\n",
        "  \n",
        " print(ticker_symbol)\n",
        " # Use ticker to get profile page\n",
        " example_url = 'https://au.finance.yahoo.com/quote/{}/profile?p={}'\n",
        " result = example_url.format(ticker_symbol, ticker_symbol)\n",
        " return result\n"
      ],
      "execution_count": 6,
      "outputs": []
    },
    {
      "cell_type": "markdown",
      "metadata": {
        "id": "_IVofxuf_-UZ"
      },
      "source": [
        "# Copied the table\n",
        "\n",
        "1. check the elements in the webpage\n",
        "\n",
        "2. Find what we need in the table\n",
        "\n",
        "3. Get the cells of each row\n",
        "\n",
        "3. read the table"
      ]
    },
    {
      "cell_type": "code",
      "metadata": {
        "id": "RwPq5EICwuV5"
      },
      "source": [
        "def get_first_3_cells(row):\n",
        "  cells = row.find_all('td')\n",
        "  name = cells[0].text\n",
        "  title = cells[1].text\n",
        "  pay = cells[2].text\n",
        "  return {'name': name, 'title':title, 'pay': pay}"
      ],
      "execution_count": 7,
      "outputs": []
    },
    {
      "cell_type": "code",
      "metadata": {
        "id": "NQx_nJ0DfHKB"
      },
      "source": [
        "def get_exec_records(soup):\n",
        "  table = soup.find('table')\n",
        "  body = table.find('tbody')\n",
        "  rows = body.find_all('tr')\n",
        "  \n",
        "  exec_records =[]\n",
        "  for row in rows:\n",
        "   result = get_first_3_cells(row)\n",
        "   exec_records.append(result) \n",
        "  return exec_records"
      ],
      "execution_count": 8,
      "outputs": []
    },
    {
      "cell_type": "markdown",
      "metadata": {
        "id": "qZm7rgn3DV1Y"
      },
      "source": [
        "# Calculate the salary and tax"
      ]
    },
    {
      "cell_type": "code",
      "metadata": {
        "id": "eVmowNB5josW"
      },
      "source": [
        "# Calculate the salary\n",
        "def get_salary(rec):\n",
        "  \n",
        "  pay = rec['pay']\n",
        "  last_pay_character = pay[-1]\n",
        "  num_part = pay[0:-1]\n",
        "\n",
        "  if last_pay_character == 'M':\n",
        "    salary = float(num_part) * 1000000\n",
        "    #print(\"Millions\")\n",
        "  elif last_pay_character == 'k':\n",
        "    salary = float(num_part) * 1000\n",
        "    #print(\"Thousand\")\n",
        "  else:\n",
        "    salary = 0\n",
        "    #print(\"Not sure\")\n",
        "\n",
        "  return salary"
      ],
      "execution_count": 9,
      "outputs": []
    },
    {
      "cell_type": "code",
      "metadata": {
        "id": "JR40rpEgj_fo"
      },
      "source": [
        "def calculate_tax(income):\n",
        "  # This function is to calculate the tax\n",
        "   if income <= 18200:\n",
        "    tax_payable = 0\n",
        "   elif 18200 < income <= 45000:\n",
        "    tax_payable = 0.19 * (income - 18200)\n",
        "   elif 45000 < income < 120000:\n",
        "    tax_payable = 5092 + 0.32 * (income - 45000)\n",
        "   elif 120001 < income < 180000:\n",
        "    tax_payable = 29467 + 0.37 * (income - 120000)\n",
        "   elif income > 180000:\n",
        "    tax_payable = 51667 + 0.45 * (income - 180000)\n",
        "\n",
        "\n",
        "   return tax_payable"
      ],
      "execution_count": 10,
      "outputs": []
    },
    {
      "cell_type": "code",
      "metadata": {
        "colab": {
          "base_uri": "https://localhost:8080/",
          "height": 390
        },
        "id": "RmnNJlxbsx0k",
        "outputId": "8e74f2e6-4ff6-449e-ed9e-72c1fbeeeb99"
      },
      "source": [
        "# Get the URL\n",
        "url = build_url()\n",
        "wd.get(url)\n",
        "soup = BeautifulSoup(wd.page_source, \"html.parser\")\n",
        "records = get_exec_records(soup)\n",
        "\n",
        "for record in records:\n",
        "  result = get_salary(record)\n",
        "  income_tax = calculate_tax(result)\n",
        "  record['tax'] = income_tax\n",
        "\n",
        "# creat a pandas datafrme (because recall in a earlier notebok a data frame is easy to save as csv)\n",
        "\n",
        "execs_df = pd.DataFrame.from_records(records)\n",
        "execs_df"
      ],
      "execution_count": 25,
      "outputs": [
        {
          "output_type": "stream",
          "name": "stdout",
          "text": [
            "Please input ticker symbol nab.ax\n",
            "nab.ax\n"
          ]
        },
        {
          "output_type": "execute_result",
          "data": {
            "text/html": [
              "<div>\n",
              "<style scoped>\n",
              "    .dataframe tbody tr th:only-of-type {\n",
              "        vertical-align: middle;\n",
              "    }\n",
              "\n",
              "    .dataframe tbody tr th {\n",
              "        vertical-align: top;\n",
              "    }\n",
              "\n",
              "    .dataframe thead th {\n",
              "        text-align: right;\n",
              "    }\n",
              "</style>\n",
              "<table border=\"1\" class=\"dataframe\">\n",
              "  <thead>\n",
              "    <tr style=\"text-align: right;\">\n",
              "      <th></th>\n",
              "      <th>name</th>\n",
              "      <th>title</th>\n",
              "      <th>pay</th>\n",
              "      <th>tax</th>\n",
              "    </tr>\n",
              "  </thead>\n",
              "  <tbody>\n",
              "    <tr>\n",
              "      <th>0</th>\n",
              "      <td>Mr. Ross Maxwell McEwan CBE, B.B.S.</td>\n",
              "      <td>Group CEO, MD &amp; Director</td>\n",
              "      <td>2.54M</td>\n",
              "      <td>1113667.0</td>\n",
              "    </tr>\n",
              "    <tr>\n",
              "      <th>1</th>\n",
              "      <td>Mr. Gary Andrew Lennon BEC, F.C.A., BEc (Hons)...</td>\n",
              "      <td>Group Chief Financial Officer</td>\n",
              "      <td>1.13M</td>\n",
              "      <td>479167.0</td>\n",
              "    </tr>\n",
              "    <tr>\n",
              "      <th>2</th>\n",
              "      <td>Mr. Patrick F. Wright</td>\n",
              "      <td>Group Exec. of Technology &amp; Enterprise Operations</td>\n",
              "      <td>1.72M</td>\n",
              "      <td>744667.0</td>\n",
              "    </tr>\n",
              "    <tr>\n",
              "      <th>3</th>\n",
              "      <td>Ms. Sharon J. Cook</td>\n",
              "      <td>Group Exec. of Legal &amp; Commercial Services</td>\n",
              "      <td>912.98k</td>\n",
              "      <td>381508.0</td>\n",
              "    </tr>\n",
              "    <tr>\n",
              "      <th>4</th>\n",
              "      <td>Ms. Susan  Ferrier</td>\n",
              "      <td>Group Exec. of People &amp; Culture</td>\n",
              "      <td>929.27k</td>\n",
              "      <td>388838.5</td>\n",
              "    </tr>\n",
              "    <tr>\n",
              "      <th>5</th>\n",
              "      <td>Ms. Angela  Mentis B.Bus</td>\n",
              "      <td>Group Chief Digital, Data &amp; Analytics Officer</td>\n",
              "      <td>1.62M</td>\n",
              "      <td>699667.0</td>\n",
              "    </tr>\n",
              "    <tr>\n",
              "      <th>6</th>\n",
              "      <td>Mr. Shaun  Dooley</td>\n",
              "      <td>Chief Risk Officer</td>\n",
              "      <td>1.05M</td>\n",
              "      <td>443167.0</td>\n",
              "    </tr>\n",
              "    <tr>\n",
              "      <th>7</th>\n",
              "      <td>Mr. Andrew  Irvine</td>\n",
              "      <td>Chief Exec. of Bus. Private Banking Division</td>\n",
              "      <td>333.27k</td>\n",
              "      <td>120638.5</td>\n",
              "    </tr>\n",
              "    <tr>\n",
              "      <th>8</th>\n",
              "      <td>Mr. Lesile D. Matheson</td>\n",
              "      <td>Group Chief Operating Officer</td>\n",
              "      <td>N/A</td>\n",
              "      <td>0.0</td>\n",
              "    </tr>\n",
              "    <tr>\n",
              "      <th>9</th>\n",
              "      <td>Ms. Sally  Mihell</td>\n",
              "      <td>Head of Investor Relations</td>\n",
              "      <td>N/A</td>\n",
              "      <td>0.0</td>\n",
              "    </tr>\n",
              "  </tbody>\n",
              "</table>\n",
              "</div>"
            ],
            "text/plain": [
              "                                                name  ...        tax\n",
              "0                Mr. Ross Maxwell McEwan CBE, B.B.S.  ...  1113667.0\n",
              "1  Mr. Gary Andrew Lennon BEC, F.C.A., BEc (Hons)...  ...   479167.0\n",
              "2                              Mr. Patrick F. Wright  ...   744667.0\n",
              "3                                 Ms. Sharon J. Cook  ...   381508.0\n",
              "4                                 Ms. Susan  Ferrier  ...   388838.5\n",
              "5                           Ms. Angela  Mentis B.Bus  ...   699667.0\n",
              "6                                  Mr. Shaun  Dooley  ...   443167.0\n",
              "7                                 Mr. Andrew  Irvine  ...   120638.5\n",
              "8                             Mr. Lesile D. Matheson  ...        0.0\n",
              "9                                  Ms. Sally  Mihell  ...        0.0\n",
              "\n",
              "[10 rows x 4 columns]"
            ]
          },
          "metadata": {},
          "execution_count": 25
        }
      ]
    },
    {
      "cell_type": "markdown",
      "metadata": {
        "id": "NQT419wH2HCk"
      },
      "source": [
        "# Save the data\n",
        "They can choose if the data will be saved as a CSV \n",
        "and/or stored in an SQLite database\n",
        "\n",
        "\n",
        "1. Ask the user if they want to save the table as a CSV file\n",
        " \n",
        "2. Ask the user if they want to save the table in an SQLite database:\n",
        "  * connect to the database\n",
        "  * define the table name and create it in the database\n",
        "  * Insert the dataFrame into the database\n",
        "  * close the database\n",
        "  * check the data\n",
        "\n",
        "Note: Need the user to input their choice"
      ]
    },
    {
      "cell_type": "code",
      "metadata": {
        "colab": {
          "base_uri": "https://localhost:8080/"
        },
        "id": "9rkJYM5itsre",
        "outputId": "b1a6d84a-a23d-4a46-a08c-e9d5b784c2bf"
      },
      "source": [
        "save1 = input(\"Do you wnat to save the table as a CSV?\")\n",
        "if save1 == 'yes':\n",
        "  import csv\n",
        "  df = pd.DataFrame.from_records(records)\n",
        "  df.to_csv(r'C:\\Users\\Ron\\Desktop\\records.csv')\n",
        "  print(\"Done!\")\n",
        "elif save1 == 'no':\n",
        "  print(\"OK!\") \n",
        "else:\n",
        "  print(\"Please input yes or no!\")"
      ],
      "execution_count": 22,
      "outputs": [
        {
          "output_type": "stream",
          "name": "stdout",
          "text": [
            "Do you wnat to save the table as a CSV?yes\n",
            "Done!\n"
          ]
        }
      ]
    },
    {
      "cell_type": "code",
      "metadata": {
        "colab": {
          "base_uri": "https://localhost:8080/"
        },
        "id": "rOD-F5Kg8KHL",
        "outputId": "72076859-ac6a-47e4-a2a0-f3c1178ca951"
      },
      "source": [
        "# I try to insert data into database after creating 'records.db', but I failed.\n",
        "# There is so many questions with inserting codes\n",
        "save2 = input(\"Do you wnat to save the table in an SQLite database?\")\n",
        "if save2 == 'yes':\n",
        "  sqliteConnection = sqlite3.connect('records.db')\n",
        "  #from sqlalchemy import create_engine\n",
        "  #df.to_sql(\"records\", engine, schema=\"SchemaName\", if_exists=\"append\", index=False)\n",
        "  #con.close()\n",
        "elif save1 == 'no':\n",
        "  print(\"OK!\") \n",
        "else:\n",
        "  print(\"Please input yes or no!\")"
      ],
      "execution_count": 20,
      "outputs": [
        {
          "name": "stdout",
          "output_type": "stream",
          "text": [
            "Do you wnat to save the table in an SQLite database?yes\n"
          ]
        }
      ]
    }
  ]
}