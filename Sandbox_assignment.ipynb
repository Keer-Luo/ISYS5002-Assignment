{
  "nbformat": 4,
  "nbformat_minor": 0,
  "metadata": {
    "colab": {
      "name": "Sandbox_assignment.ipynb",
      "provenance": [],
      "authorship_tag": "ABX9TyO1HaDub5HLr4oQq8PXBVsr",
      "include_colab_link": true
    },
    "kernelspec": {
      "name": "python3",
      "display_name": "Python 3"
    },
    "language_info": {
      "name": "python"
    }
  },
  "cells": [
    {
      "cell_type": "markdown",
      "metadata": {
        "id": "view-in-github",
        "colab_type": "text"
      },
      "source": [
        "<a href=\"https://colab.research.google.com/github/Keer-Luo/ISYS5002-Assignment/blob/main/Sandbox_assignment.ipynb\" target=\"_parent\"><img src=\"https://colab.research.google.com/assets/colab-badge.svg\" alt=\"Open In Colab\"/></a>"
      ]
    },
    {
      "cell_type": "markdown",
      "metadata": {
        "id": "-7av55TkDsIz"
      },
      "source": [
        "# Assignment Ideas\n",
        "\n",
        "1. State the problem clearly\n",
        "2. Describle the input and output information\n",
        "3. Work the problem\n",
        "4. Develop an algorithm\n",
        "5. Test solution with a variety of data\n",
        "\n",
        "# Inputs\n",
        "\n",
        "* input a ticker symbol. Not sure what a ticker symbol is?\n",
        "\n",
        "Note: To prompt the user, I guess I will need to use the input() function\n",
        "\n",
        "**TODO: Find out what a ticker symbol is** \n",
        "\n",
        "# Processing thoughts\n",
        "\n",
        "* Scrap the Yahoo website\n",
        "* Extract the 'Key Executives'\n",
        "* Calculate income tax\n",
        "\n",
        "Note: In a previous Notebook, we calculated the tax based on ATO table, Might be able to  use that in this assignment\n",
        "\n",
        "**TODO: Find Yahoo Website**\n",
        "\n",
        "Here is the webpage: https://finance.yahoo.com/\n",
        "\n",
        "Note there is a search bar, will use to find a company\n",
        "\n",
        "**TODO: Find the key Executivies**\n",
        "# Outputs\n",
        "\n",
        "* Save the CSV files\n",
        "* save to SQL database \n",
        "\n",
        "**TODO: Work out what I have to save!**\n",
        "\n",
        "\n",
        "# Lets Explore the Website\n",
        "\n",
        "1. Search for Coles\n",
        "\n",
        "Coles ticker is COL.AX\n",
        "\n",
        "Note the 'AX' means Australian\n",
        "\n",
        "Just read the assignment specification, it can be any company.\n",
        "\n",
        "Found the key executivies in the profile page.\n",
        "\n",
        "Here is the URL for Coles:\n",
        "\n",
        "https://finance.yahoo.com/quote/COL.AX/profile?p=COL.AX\n",
        "\n",
        "2. Lets search for National Australian Back\n",
        "\n",
        "The ticker is NAB.AX, Here is the URL to the proflie page:\n",
        "\n",
        "https://finance.yahoo.com/quote/NAB.AX/profile?p=NAB.AX\n",
        "\n",
        "There appears to be a pattern with the URL. I can see that the ticker twice in the URL\n",
        "\n",
        "Manual process is\n",
        "1. Seaech for Ticker\n",
        "2. Click on proflie\n",
        "\n",
        "**TODO: Can I shortcut the process and just use the URL**\n",
        "\n",
        "Looks like I can edit the URL and replace the ticker. Seems that only the first ticker symbol in the URL is important, but to be safe I will replace both.\n",
        "\n",
        "\n"
      ]
    },
    {
      "cell_type": "markdown",
      "metadata": {
        "id": "hehapW2zoK8L"
      },
      "source": [
        "# Initial Algorithm\n",
        "\n",
        "1. User input ticker symbol\n",
        "2. Use ticker to get profile page\n",
        "3. Copied the table\n",
        "4. For each row of the table\n",
        " * Process a row to extract pay\n",
        " * Find the last character to determin multiplier\n",
        " * Calculate salary, pay * multiplier\n",
        " * Calculate the income tax\n",
        "\n",
        "\n",
        "Note: \n",
        "1. Need to validate the ticker, but for now I will assume the user type in a correct ticker\n",
        "2. Still need to work out where I save the income tax to\n"
      ]
    },
    {
      "cell_type": "code",
      "metadata": {
        "colab": {
          "base_uri": "https://localhost:8080/"
        },
        "id": "PRPPStn_KWxm",
        "outputId": "bbe9ac6e-decd-4288-a516-1840a917a40f"
      },
      "source": [
        "\n",
        "#install requirements\n",
        "!pip install kora -q\n",
        "\n",
        "#load package page\n",
        "from bs4 import BeautifulSoup\n",
        "from kora.selenium import wd\n",
        "import pandas as pd"
      ],
      "execution_count": 1,
      "outputs": [
        {
          "output_type": "stream",
          "name": "stdout",
          "text": [
            "\u001b[?25l\r\u001b[K     |█████▊                          | 10 kB 31.0 MB/s eta 0:00:01\r\u001b[K     |███████████▍                    | 20 kB 27.0 MB/s eta 0:00:01\r\u001b[K     |█████████████████               | 30 kB 18.9 MB/s eta 0:00:01\r\u001b[K     |██████████████████████▊         | 40 kB 15.7 MB/s eta 0:00:01\r\u001b[K     |████████████████████████████▍   | 51 kB 7.3 MB/s eta 0:00:01\r\u001b[K     |████████████████████████████████| 57 kB 3.5 MB/s \n",
            "\u001b[?25h\u001b[?25l\r\u001b[K     |█████▉                          | 10 kB 24.6 MB/s eta 0:00:01\r\u001b[K     |███████████▊                    | 20 kB 33.9 MB/s eta 0:00:01\r\u001b[K     |█████████████████▌              | 30 kB 41.1 MB/s eta 0:00:01\r\u001b[K     |███████████████████████▍        | 40 kB 39.3 MB/s eta 0:00:01\r\u001b[K     |█████████████████████████████▎  | 51 kB 40.0 MB/s eta 0:00:01\r\u001b[K     |████████████████████████████████| 56 kB 4.0 MB/s \n",
            "\u001b[?25h"
          ]
        }
      ]
    },
    {
      "cell_type": "code",
      "metadata": {
        "id": "671wkk_dr3xp"
      },
      "source": [
        "def build_url():\n",
        " # User input ticker symbol\n",
        " ticker_symbol = input(\"Please input ticker symbol \")\n",
        " print(ticker_symbol)\n",
        " # Use ticker to get profile page\n",
        " example_url = 'https://au.finance.yahoo.com/quote/{}/profile?p={}'\n",
        " result = example_url.format(ticker_symbol, ticker_symbol)\n",
        " return result"
      ],
      "execution_count": 7,
      "outputs": []
    },
    {
      "cell_type": "code",
      "metadata": {
        "id": "RwPq5EICwuV5"
      },
      "source": [
        "def get_first_3_cells(row):\n",
        "  cells = row.find_all('td')\n",
        "  name = cells[0].text\n",
        "  title = cells[1].text\n",
        "  pay = cells[2].text\n",
        "  return {'name': name, 'title':title, 'pay': pay}"
      ],
      "execution_count": 17,
      "outputs": []
    },
    {
      "cell_type": "code",
      "metadata": {
        "id": "NQx_nJ0DfHKB"
      },
      "source": [
        "def get_exec_records(soup):\n",
        "  exec_records =[]\n",
        "  for row in rows:\n",
        "   result = get_first_3_cells(row)\n",
        "   exec_records.append(result) \n",
        "  return exec_records"
      ],
      "execution_count": 25,
      "outputs": []
    },
    {
      "cell_type": "code",
      "metadata": {
        "colab": {
          "base_uri": "https://localhost:8080/"
        },
        "id": "RmnNJlxbsx0k",
        "outputId": "57c8993f-05eb-4f37-c9de-321ffc413e9d"
      },
      "source": [
        "# Get the URL\n",
        "url = build_url()\n",
        "wd.get(url)\n",
        "soup = BeautifulSoup(wd.page_source, \"html.parser\")\n",
        "get_exec_records()"
      ],
      "execution_count": 28,
      "outputs": [
        {
          "output_type": "stream",
          "name": "stdout",
          "text": [
            "Please input ticker symbol nab.ax\n",
            "nab.ax\n"
          ]
        },
        {
          "output_type": "execute_result",
          "data": {
            "text/plain": [
              "[{'name': 'Mr. Ross Maxwell McEwan CBE, B.B.S.',\n",
              "  'pay': '2.54M',\n",
              "  'title': 'Group CEO, MD & Director'},\n",
              " {'name': 'Mr. Gary Andrew Lennon BEC, F.C.A., BEc (Hons), FCA',\n",
              "  'pay': '1.13M',\n",
              "  'title': 'Group Chief Financial Officer'},\n",
              " {'name': 'Mr. Patrick F. Wright',\n",
              "  'pay': '1.72M',\n",
              "  'title': 'Group Exec. of Technology & Enterprise Operations'},\n",
              " {'name': 'Ms. Sharon J. Cook',\n",
              "  'pay': '912.98k',\n",
              "  'title': 'Group Exec. of Legal & Commercial Services'},\n",
              " {'name': 'Ms. Susan  Ferrier',\n",
              "  'pay': '929.27k',\n",
              "  'title': 'Group Exec. of People & Culture'},\n",
              " {'name': 'Ms. Angela  Mentis B.Bus',\n",
              "  'pay': '1.62M',\n",
              "  'title': 'Group Chief Digital, Data & Analytics Officer'},\n",
              " {'name': 'Mr. Shaun  Dooley', 'pay': '1.05M', 'title': 'Chief Risk Officer'},\n",
              " {'name': 'Mr. Andrew  Irvine',\n",
              "  'pay': '333.27k',\n",
              "  'title': 'Chief Exec. of Bus. Private Banking Division'},\n",
              " {'name': 'Mr. Lesile D. Matheson',\n",
              "  'pay': 'N/A',\n",
              "  'title': 'Group Chief Operating Officer'},\n",
              " {'name': 'Ms. Sally  Mihell',\n",
              "  'pay': 'N/A',\n",
              "  'title': 'Head of Investor Relations'}]"
            ]
          },
          "metadata": {},
          "execution_count": 28
        }
      ]
    }
  ]
}